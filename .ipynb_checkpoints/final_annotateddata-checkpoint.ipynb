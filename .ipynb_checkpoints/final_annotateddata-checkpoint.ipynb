{
 "cells": [
  {
   "cell_type": "code",
   "execution_count": 1,
   "id": "6bedc670",
   "metadata": {},
   "outputs": [],
   "source": [
    "import nltk\n",
    "import pandas as pd\n",
    "from nltk.corpus import stopwords\n",
    "from sklearn.preprocessing import LabelEncoder\n",
    "from collections import Counter\n",
    "from sklearn.metrics import classification_report,confusion_matrix,accuracy_score\n",
    "from keras.models import Sequential\n",
    "\n",
    "from keras.preprocessing.text import Tokenizer\n",
    "from keras_preprocessing.sequence import pad_sequences\n",
    "from keras.layers import Dense, Embedding, LSTM, SpatialDropout1D\n",
    "from sklearn.model_selection import train_test_split \n",
    "from keras.layers import Embedding, Bidirectional, LSTM, GRU, Dense\n",
    "#import matplotlib.pyplot as plt\n",
    "import matplotlib.pyplot as plt\n",
    "from sklearn.metrics import accuracy_score, f1_score, confusion_matrix"
   ]
  },
  {
   "cell_type": "code",
   "execution_count": 2,
   "id": "08a029bc",
   "metadata": {},
   "outputs": [],
   "source": [
    "data_path = \"C:/Users/Ideapad Gaming 3/Desktop/MINOR 1 FINAL/dataclassifications.csv\"\n",
    "data = pd.read_csv(data_path, encoding='UTF-8')"
   ]
  },
  {
   "cell_type": "code",
   "execution_count": 3,
   "id": "6e4038b3",
   "metadata": {},
   "outputs": [],
   "source": [
    "df = pd.DataFrame(data, columns = [\"text\",\"Anger\",\"Anticipation\",\"Disgust\",\"fear\",\"joy\",\"optimism\",\"pessimism\",\"surprise\",\n",
    "                   \"trust\",\"neutral\",\"ProG\",\"AntiG\",\"opinion\"])"
   ]
  },
  {
   "cell_type": "code",
   "execution_count": 4,
   "id": "93a2c865",
   "metadata": {},
   "outputs": [
    {
     "name": "stdout",
     "output_type": "stream",
     "text": [
      "['Anger', 'Anticipation', 'Disgust', 'fear', 'joy', 'optimism', 'pessimism', 'surprise', 'trust', 'neutral', 'ProG', 'AntiG', 'opinion']\n"
     ]
    }
   ],
   "source": [
    "categories = list(df.columns.values)\n",
    "categories = categories[1:]\n",
    "print(categories)"
   ]
  },
  {
   "cell_type": "code",
   "execution_count": 5,
   "id": "64ad5c82",
   "metadata": {},
   "outputs": [
    {
     "data": {
      "text/html": [
       "<div>\n",
       "<style scoped>\n",
       "    .dataframe tbody tr th:only-of-type {\n",
       "        vertical-align: middle;\n",
       "    }\n",
       "\n",
       "    .dataframe tbody tr th {\n",
       "        vertical-align: top;\n",
       "    }\n",
       "\n",
       "    .dataframe thead th {\n",
       "        text-align: right;\n",
       "    }\n",
       "</style>\n",
       "<table border=\"1\" class=\"dataframe\">\n",
       "  <thead>\n",
       "    <tr style=\"text-align: right;\">\n",
       "      <th></th>\n",
       "      <th>category</th>\n",
       "      <th>number of comments</th>\n",
       "    </tr>\n",
       "  </thead>\n",
       "  <tbody>\n",
       "    <tr>\n",
       "      <th>0</th>\n",
       "      <td>Anger</td>\n",
       "      <td>248</td>\n",
       "    </tr>\n",
       "    <tr>\n",
       "      <th>1</th>\n",
       "      <td>Anticipation</td>\n",
       "      <td>308</td>\n",
       "    </tr>\n",
       "    <tr>\n",
       "      <th>2</th>\n",
       "      <td>Disgust</td>\n",
       "      <td>177</td>\n",
       "    </tr>\n",
       "    <tr>\n",
       "      <th>3</th>\n",
       "      <td>fear</td>\n",
       "      <td>72</td>\n",
       "    </tr>\n",
       "    <tr>\n",
       "      <th>4</th>\n",
       "      <td>joy</td>\n",
       "      <td>142</td>\n",
       "    </tr>\n",
       "    <tr>\n",
       "      <th>5</th>\n",
       "      <td>optimism</td>\n",
       "      <td>402</td>\n",
       "    </tr>\n",
       "    <tr>\n",
       "      <th>6</th>\n",
       "      <td>pessimism</td>\n",
       "      <td>258</td>\n",
       "    </tr>\n",
       "    <tr>\n",
       "      <th>7</th>\n",
       "      <td>surprise</td>\n",
       "      <td>88</td>\n",
       "    </tr>\n",
       "    <tr>\n",
       "      <th>8</th>\n",
       "      <td>trust</td>\n",
       "      <td>167</td>\n",
       "    </tr>\n",
       "    <tr>\n",
       "      <th>9</th>\n",
       "      <td>neutral</td>\n",
       "      <td>393</td>\n",
       "    </tr>\n",
       "    <tr>\n",
       "      <th>10</th>\n",
       "      <td>ProG</td>\n",
       "      <td>160</td>\n",
       "    </tr>\n",
       "    <tr>\n",
       "      <th>11</th>\n",
       "      <td>AntiG</td>\n",
       "      <td>208</td>\n",
       "    </tr>\n",
       "    <tr>\n",
       "      <th>12</th>\n",
       "      <td>opinion</td>\n",
       "      <td>332</td>\n",
       "    </tr>\n",
       "  </tbody>\n",
       "</table>\n",
       "</div>"
      ],
      "text/plain": [
       "        category  number of comments\n",
       "0          Anger                 248\n",
       "1   Anticipation                 308\n",
       "2        Disgust                 177\n",
       "3           fear                  72\n",
       "4            joy                 142\n",
       "5       optimism                 402\n",
       "6      pessimism                 258\n",
       "7       surprise                  88\n",
       "8          trust                 167\n",
       "9        neutral                 393\n",
       "10          ProG                 160\n",
       "11         AntiG                 208\n",
       "12       opinion                 332"
      ]
     },
     "execution_count": 5,
     "metadata": {},
     "output_type": "execute_result"
    }
   ],
   "source": [
    "counts = []\n",
    "for category in categories:\n",
    "        counts.append((category,df[category].sum()))\n",
    "df_stats = pd.DataFrame(counts,columns=['category','number of comments'])\n",
    "df_stats"
   ]
  },
  {
   "cell_type": "code",
   "execution_count": 6,
   "id": "63e457be",
   "metadata": {
    "scrolled": true
   },
   "outputs": [
    {
     "name": "stdout",
     "output_type": "stream",
     "text": [
      "                                              full_text  Anger  Anticipation  \\\n",
      "0     #ModiHiAayega #LokSabhaElections2019 @AmitShah...      1             0   \n",
      "1     SA voters as they make doubly sure their ballo...      0             0   \n",
      "2     Voting more than once is a fraudulent activity...      0             0   \n",
      "3     @PiyushGoyal @narendramodi @abpnewstv #PMModiO...      1             0   \n",
      "4     We have been standing for two hours on the lin...      1             0   \n",
      "...                                                 ...    ...           ...   \n",
      "1515  Every action of voting in the electoral proces...      0             0   \n",
      "1516  #SupremeCourt has asked the #ElectionCommissio...      0             1   \n",
      "1517  PM Modi in Haryana: Can any nation become worl...      0             1   \n",
      "1518  #LokSabhaElections2019 \\nThe life of Congress ...      0             0   \n",
      "1519  Small packet but a powerful one! This video ne...      1             0   \n",
      "\n",
      "      Disgust  fear  joy  optimism  pessimism  surprise  trust  neutral  ProG  \\\n",
      "0           0     0    0         0          1         0      0        1     0   \n",
      "1           0     0    0         0          0         0      0        0     0   \n",
      "2           0     0    0         0          0         0      0        1     0   \n",
      "3           0     0    0         0          1         0      0        0     0   \n",
      "4           0     0    0         0          1         0      0        0     0   \n",
      "...       ...   ...  ...       ...        ...       ...    ...      ...   ...   \n",
      "1515        0     0    0         0          0         0      0        1     0   \n",
      "1516        0     1    0         0          0         0      0        0     0   \n",
      "1517        0     0    0         1          0         0      1        0     1   \n",
      "1518        0     0    0         0          0         0      0        1     0   \n",
      "1519        0     0    0         0          0         0      0        0     0   \n",
      "\n",
      "      AntiG  opinion  \n",
      "0         0        1  \n",
      "1         0        0  \n",
      "2         0        1  \n",
      "3         1        1  \n",
      "4         0        0  \n",
      "...     ...      ...  \n",
      "1515      0        0  \n",
      "1516      0        0  \n",
      "1517      0        1  \n",
      "1518      0        0  \n",
      "1519      0        0  \n",
      "\n",
      "[1520 rows x 14 columns]\n"
     ]
    },
    {
     "data": {
      "text/plain": [
       "(1520, 14)"
      ]
     },
     "execution_count": 6,
     "metadata": {},
     "output_type": "execute_result"
    }
   ],
   "source": [
    "print(data)\n",
    "data.shape"
   ]
  },
  {
   "cell_type": "code",
   "execution_count": 7,
   "id": "4fec86db",
   "metadata": {},
   "outputs": [],
   "source": [
    "def clean_text(data):\n",
    "    \n",
    "    # remove hashtags and @usernames\n",
    "    data = re.sub(r\"(#[\\d\\w\\.]+)\", '', data)\n",
    "    data = re.sub(r\"(@[\\d\\w\\.]+)\", '', data)\n",
    "    \n",
    "    # tekenization using nltk\n",
    "    data = word_tokenize(data)\n",
    "    \n",
    "    return data"
   ]
  },
  {
   "cell_type": "code",
   "execution_count": 8,
   "id": "80fac4af",
   "metadata": {},
   "outputs": [],
   "source": [
    " data['full_text'] = data['full_text'].str.lower() # helps while parsing in future(breaking in smaller words)"
   ]
  },
  {
   "cell_type": "code",
   "execution_count": 9,
   "id": "94bb4690",
   "metadata": {},
   "outputs": [
    {
     "name": "stderr",
     "output_type": "stream",
     "text": [
      "[nltk_data] Downloading package stopwords to\n",
      "[nltk_data]     C:\\Users\\Manas\\AppData\\Roaming\\nltk_data...\n",
      "[nltk_data]   Package stopwords is already up-to-date!\n"
     ]
    },
    {
     "data": {
      "text/plain": [
       "True"
      ]
     },
     "execution_count": 9,
     "metadata": {},
     "output_type": "execute_result"
    }
   ],
   "source": [
    "nltk.download('stopwords')\n"
   ]
  },
  {
   "cell_type": "code",
   "execution_count": 10,
   "id": "b15e03f8",
   "metadata": {},
   "outputs": [],
   "source": [
    "import re"
   ]
  },
  {
   "cell_type": "code",
   "execution_count": 11,
   "id": "6a238779",
   "metadata": {},
   "outputs": [
    {
     "data": {
      "text/html": [
       "<div>\n",
       "<style scoped>\n",
       "    .dataframe tbody tr th:only-of-type {\n",
       "        vertical-align: middle;\n",
       "    }\n",
       "\n",
       "    .dataframe tbody tr th {\n",
       "        vertical-align: top;\n",
       "    }\n",
       "\n",
       "    .dataframe thead th {\n",
       "        text-align: right;\n",
       "    }\n",
       "</style>\n",
       "<table border=\"1\" class=\"dataframe\">\n",
       "  <thead>\n",
       "    <tr style=\"text-align: right;\">\n",
       "      <th></th>\n",
       "      <th>full_text</th>\n",
       "      <th>Anger</th>\n",
       "      <th>Anticipation</th>\n",
       "      <th>Disgust</th>\n",
       "      <th>fear</th>\n",
       "      <th>joy</th>\n",
       "      <th>optimism</th>\n",
       "      <th>pessimism</th>\n",
       "      <th>surprise</th>\n",
       "      <th>trust</th>\n",
       "      <th>neutral</th>\n",
       "      <th>ProG</th>\n",
       "      <th>AntiG</th>\n",
       "      <th>opinion</th>\n",
       "    </tr>\n",
       "  </thead>\n",
       "  <tbody>\n",
       "    <tr>\n",
       "      <th>0</th>\n",
       "      <td>#modihiaayega #loksabhaelections2019 @amitshah...</td>\n",
       "      <td>1</td>\n",
       "      <td>0</td>\n",
       "      <td>0</td>\n",
       "      <td>0</td>\n",
       "      <td>0</td>\n",
       "      <td>0</td>\n",
       "      <td>1</td>\n",
       "      <td>0</td>\n",
       "      <td>0</td>\n",
       "      <td>1</td>\n",
       "      <td>0</td>\n",
       "      <td>0</td>\n",
       "      <td>1</td>\n",
       "    </tr>\n",
       "    <tr>\n",
       "      <th>1</th>\n",
       "      <td>sa voters   make doubly sure  ballot papers go...</td>\n",
       "      <td>0</td>\n",
       "      <td>0</td>\n",
       "      <td>0</td>\n",
       "      <td>0</td>\n",
       "      <td>0</td>\n",
       "      <td>0</td>\n",
       "      <td>0</td>\n",
       "      <td>0</td>\n",
       "      <td>0</td>\n",
       "      <td>0</td>\n",
       "      <td>0</td>\n",
       "      <td>0</td>\n",
       "      <td>0</td>\n",
       "    </tr>\n",
       "    <tr>\n",
       "      <th>2</th>\n",
       "      <td>voting      fraudulent activity. anyone voted ...</td>\n",
       "      <td>0</td>\n",
       "      <td>0</td>\n",
       "      <td>0</td>\n",
       "      <td>0</td>\n",
       "      <td>0</td>\n",
       "      <td>0</td>\n",
       "      <td>0</td>\n",
       "      <td>0</td>\n",
       "      <td>0</td>\n",
       "      <td>1</td>\n",
       "      <td>0</td>\n",
       "      <td>0</td>\n",
       "      <td>1</td>\n",
       "    </tr>\n",
       "    <tr>\n",
       "      <th>3</th>\n",
       "      <td>@piyushgoyal @narendramodi @abpnewstv #pmmodio...</td>\n",
       "      <td>1</td>\n",
       "      <td>0</td>\n",
       "      <td>0</td>\n",
       "      <td>0</td>\n",
       "      <td>0</td>\n",
       "      <td>0</td>\n",
       "      <td>1</td>\n",
       "      <td>0</td>\n",
       "      <td>0</td>\n",
       "      <td>0</td>\n",
       "      <td>0</td>\n",
       "      <td>1</td>\n",
       "      <td>1</td>\n",
       "    </tr>\n",
       "    <tr>\n",
       "      <th>4</th>\n",
       "      <td>standing   hours   line.   told    forms  f...</td>\n",
       "      <td>1</td>\n",
       "      <td>0</td>\n",
       "      <td>0</td>\n",
       "      <td>0</td>\n",
       "      <td>0</td>\n",
       "      <td>0</td>\n",
       "      <td>1</td>\n",
       "      <td>0</td>\n",
       "      <td>0</td>\n",
       "      <td>0</td>\n",
       "      <td>0</td>\n",
       "      <td>0</td>\n",
       "      <td>0</td>\n",
       "    </tr>\n",
       "  </tbody>\n",
       "</table>\n",
       "</div>"
      ],
      "text/plain": [
       "                                           full_text  Anger  Anticipation  \\\n",
       "0  #modihiaayega #loksabhaelections2019 @amitshah...      1             0   \n",
       "1  sa voters   make doubly sure  ballot papers go...      0             0   \n",
       "2  voting      fraudulent activity. anyone voted ...      0             0   \n",
       "3  @piyushgoyal @narendramodi @abpnewstv #pmmodio...      1             0   \n",
       "4     standing   hours   line.   told    forms  f...      1             0   \n",
       "\n",
       "   Disgust  fear  joy  optimism  pessimism  surprise  trust  neutral  ProG  \\\n",
       "0        0     0    0         0          1         0      0        1     0   \n",
       "1        0     0    0         0          0         0      0        0     0   \n",
       "2        0     0    0         0          0         0      0        1     0   \n",
       "3        0     0    0         0          1         0      0        0     0   \n",
       "4        0     0    0         0          1         0      0        0     0   \n",
       "\n",
       "   AntiG  opinion  \n",
       "0      0        1  \n",
       "1      0        0  \n",
       "2      0        1  \n",
       "3      1        1  \n",
       "4      0        0  "
      ]
     },
     "execution_count": 11,
     "metadata": {},
     "output_type": "execute_result"
    }
   ],
   "source": [
    "stop_words = set(stopwords.words('english'))\n",
    "stop_words.update(['zero','one','two','three','four','five','six','seven','eight','nine','ten','may','also','across','among','beside','however','yet','within'])\n",
    "re_stop_words = re.compile(r\"\\b(\" + \"|\".join(stop_words) + \")\\\\W\", re.I)\n",
    "def removeStopWords(sentence):\n",
    "    global re_stop_words\n",
    "    return re_stop_words.sub(\" \", sentence)\n",
    "data['full_text']=data['full_text'].apply(str) #some of the values that appear to be float need to be converted to strings to avoid error\n",
    "data['full_text'] = data['full_text'].apply(removeStopWords)\n",
    "data.head()"
   ]
  },
  {
   "cell_type": "code",
   "execution_count": 12,
   "id": "c2df3b0c",
   "metadata": {},
   "outputs": [],
   "source": [
    "import os\n",
    "import numpy as np\n",
    "import pandas as pd"
   ]
  },
  {
   "cell_type": "code",
   "execution_count": 16,
   "id": "9b62e718",
   "metadata": {},
   "outputs": [
    {
     "name": "stdout",
     "output_type": "stream",
     "text": [
      "Found 999995 word vectors.\n"
     ]
    }
   ],
   "source": [
    "word2vec = {}\n",
    "with open(os.path.join('embeddings/wiki-news-300d-1M.vec'),encoding = \"utf-8\") as f:\n",
    "    \n",
    "    for line in f:\n",
    "        values = line.split()\n",
    "        word = values[0]\n",
    "        vec = np.asarray(values[1:],dtype='float32')\n",
    "        word2vec[word] = vec\n",
    "print('Found %s word vectors.' % len(word2vec))"
   ]
  },
  {
   "cell_type": "code",
   "execution_count": 18,
   "id": "6243c035",
   "metadata": {},
   "outputs": [],
   "source": [
    "from __future__ import print_function,division\n",
    "from builtins import range"
   ]
  },
  {
   "cell_type": "code",
   "execution_count": 19,
   "id": "1dd0e983",
   "metadata": {},
   "outputs": [],
   "source": [
    "train = data\n",
    "sentences = train[\"full_text\"].fillna(\"DUMMY_VALUE\").values\n",
    "#possible_labels = [\"Joy\",\"Satisfaction\",\"neutral\",\"sadness\",\"surprise\",\"insult\",\"shame\"]\n",
    "possible_labels = [\"Anger\",\"Anticipation\",\"Disgust\",\"fear\",\"joy\",\"optimism\",\"pessimism\",\"surprise\",\n",
    "                   \"trust\",\"neutral\",\"ProG\",\"AntiG\",\"opinion\"]\n",
    "targets = train[possible_labels].values\n"
   ]
  },
  {
   "cell_type": "code",
   "execution_count": 20,
   "id": "34558d28",
   "metadata": {},
   "outputs": [
    {
     "data": {
      "text/plain": [
       "array([[1, 0, 0, ..., 0, 0, 1],\n",
       "       [0, 0, 0, ..., 0, 0, 0],\n",
       "       [0, 0, 0, ..., 0, 0, 1],\n",
       "       ...,\n",
       "       [0, 1, 0, ..., 1, 0, 1],\n",
       "       [0, 0, 0, ..., 0, 0, 0],\n",
       "       [1, 0, 0, ..., 0, 0, 0]], dtype=int64)"
      ]
     },
     "execution_count": 20,
     "metadata": {},
     "output_type": "execute_result"
    }
   ],
   "source": [
    "targets"
   ]
  },
  {
   "cell_type": "code",
   "execution_count": 21,
   "id": "264fa2d5",
   "metadata": {
    "scrolled": true
   },
   "outputs": [
    {
     "name": "stdout",
     "output_type": "stream",
     "text": [
      "(1520,)\n",
      "(1520, 13)\n"
     ]
    }
   ],
   "source": [
    "print(sentences.shape)\n",
    "print(targets.shape)"
   ]
  },
  {
   "cell_type": "code",
   "execution_count": 22,
   "id": "2dd7aa6b",
   "metadata": {},
   "outputs": [
    {
     "name": "stdout",
     "output_type": "stream",
     "text": [
      "max len seq: 467\n",
      "min len seq: 96\n",
      "Median seq len: 211\n"
     ]
    }
   ],
   "source": [
    "print(\"max len seq:\",max(len(s) for s in sentences))\n",
    "print(\"min len seq:\",min(len(s) for s in sentences))\n",
    "s = sorted(len(s) for s in sentences)\n",
    "print(\"Median seq len:\",s[len(s)//2])"
   ]
  },
  {
   "cell_type": "code",
   "execution_count": 23,
   "id": "5e925135",
   "metadata": {
    "scrolled": true
   },
   "outputs": [
    {
     "name": "stdout",
     "output_type": "stream",
     "text": [
      "max len seq: 73\n",
      "min len seq: 10\n",
      "Median seq len: 23\n",
      "max word index: 10299\n"
     ]
    }
   ],
   "source": [
    "MAX_VOCAB_SIZE = 20000 \n",
    "tokenizer = Tokenizer(num_words = MAX_VOCAB_SIZE)\n",
    "tokenizer.fit_on_texts(sentences)\n",
    "sequences = tokenizer.texts_to_sequences(sentences) \n",
    "\n",
    "print(\"max len seq:\",max(len(s) for s in sequences))\n",
    "print(\"min len seq:\",min(len(s) for s in sequences))\n",
    "s = sorted(len(s) for s in sequences)\n",
    "print(\"Median seq len:\",s[len(s)//2])\n",
    "\n",
    "print(\"max word index:\",max(max(seq) for seq in sequences if len(seq)>0))"
   ]
  },
  {
   "cell_type": "code",
   "execution_count": 24,
   "id": "7c7f88c1",
   "metadata": {},
   "outputs": [],
   "source": [
    "MAX_SEQUENCE_LENGTH = 100 \n",
    "# can be taken as 73 also\n",
    "MAX_VOCAB_SIZE = 20000 \n",
    "EMBEDDING_DIM = 300\n",
    "VALIDATION_SPLIT = 0.2\n",
    "EPOCHS = 10"
   ]
  },
  {
   "cell_type": "code",
   "execution_count": 25,
   "id": "b65d8bf8",
   "metadata": {},
   "outputs": [
    {
     "name": "stdout",
     "output_type": "stream",
     "text": [
      "Found 10299 unique tokens.\n"
     ]
    }
   ],
   "source": [
    "word2idx = tokenizer.word_index\n",
    "print('Found %s unique tokens.' % len(word2idx))"
   ]
  },
  {
   "cell_type": "code",
   "execution_count": 26,
   "id": "b0795738",
   "metadata": {
    "scrolled": true
   },
   "outputs": [
    {
     "name": "stdout",
     "output_type": "stream",
     "text": [
      "Shape of data tensor: (1520, 100)\n",
      "[[    0     0     0 ...   354     5  2280]\n",
      " [    0     0     0 ...     2     1  3636]\n",
      " [    0     0     0 ...   134  1053   303]\n",
      " ...\n",
      " [    0     0     0 ...   385   828    16]\n",
      " [    0     0     0 ...     2     1 10298]\n",
      " [    0     0     0 ...     2     1 10299]]\n"
     ]
    }
   ],
   "source": [
    "data= pad_sequences(sequences, maxlen = MAX_SEQUENCE_LENGTH)\n",
    "print('Shape of data tensor:',data.shape)\n",
    "print(data)"
   ]
  },
  {
   "cell_type": "raw",
   "id": "dd595d6a",
   "metadata": {},
   "source": [
    "# num_embeddings = 75.6496 * ln(num_categories + 176.623) - 41.4457 for num categories >1000"
   ]
  },
  {
   "cell_type": "code",
   "execution_count": 27,
   "id": "cc5f7d39",
   "metadata": {},
   "outputs": [],
   "source": [
    "num_words = min(MAX_VOCAB_SIZE, len(word2idx)+1)\n",
    "embedding_matrix = np.zeros((num_words,EMBEDDING_DIM))# size of 10300 x 300 \n",
    "for word, i in word2idx.items():\n",
    "    if i<MAX_VOCAB_SIZE:      \n",
    "        embedding_vector = word2vec.get(word)\n",
    "        if embedding_vector is not None:\n",
    "            embedding_matrix[i] = embedding_vector"
   ]
  },
  {
   "cell_type": "code",
   "execution_count": 29,
   "id": "11b5ede9",
   "metadata": {},
   "outputs": [],
   "source": [
    "embedding_layer = Embedding(num_words,\n",
    "                         EMBEDDING_DIM,\n",
    "                         weights = [embedding_matrix],\n",
    "                        input_length = MAX_SEQUENCE_LENGTH,\n",
    "                         trainable=False)"
   ]
  },
  {
   "cell_type": "code",
   "execution_count": 57,
   "id": "ec250a89",
   "metadata": {},
   "outputs": [
    {
     "name": "stdout",
     "output_type": "stream",
     "text": [
      "Model: \"sequential_3\"\n",
      "_________________________________________________________________\n",
      "Layer (type)                 Output Shape              Param #   \n",
      "=================================================================\n",
      "embedding_4 (Embedding)      (None, 100, 300)          3090000   \n",
      "_________________________________________________________________\n",
      "lstm_4 (LSTM)                (None, 100)               160400    \n",
      "_________________________________________________________________\n",
      "dense_10 (Dense)             (None, 1)                 101       \n",
      "_________________________________________________________________\n",
      "flatten_3 (Flatten)          (None, 1)                 0         \n",
      "=================================================================\n",
      "Total params: 3,250,501\n",
      "Trainable params: 160,501\n",
      "Non-trainable params: 3,090,000\n",
      "_________________________________________________________________\n",
      "None\n"
     ]
    }
   ],
   "source": [
    "from keras.layers import Activation, Flatten\n",
    "\n",
    "model = Sequential() \n",
    "model.add(Embedding(num_words,\n",
    "                         EMBEDDING_DIM,\n",
    "                         weights = [embedding_matrix],\n",
    "                        input_length = MAX_SEQUENCE_LENGTH,\n",
    "                         trainable=False)) \n",
    "model.add(LSTM(100)) \n",
    "model.add(Dense(1, activation='sigmoid')) \n",
    "model.add(Flatten())\n",
    "model.compile(loss='binary_crossentropy',optimizer='adam', metrics=['accuracy']) \n",
    "print(model.summary()) "
   ]
  },
  {
   "cell_type": "code",
   "execution_count": 58,
   "id": "8fb1413f",
   "metadata": {},
   "outputs": [],
   "source": [
    "BATCH_SIZE = 164\n",
    "EPOCHS=10"
   ]
  },
  {
   "cell_type": "code",
   "execution_count": 59,
   "id": "c286a2ad",
   "metadata": {},
   "outputs": [
    {
     "data": {
      "text/plain": [
       "(1520, 100)"
      ]
     },
     "execution_count": 59,
     "metadata": {},
     "output_type": "execute_result"
    }
   ],
   "source": [
    "data.shape"
   ]
  },
  {
   "cell_type": "code",
   "execution_count": 60,
   "id": "bdfe84fb",
   "metadata": {
    "scrolled": true
   },
   "outputs": [
    {
     "name": "stdout",
     "output_type": "stream",
     "text": [
      "Epoch 1/10\n",
      "8/8 [==============================] - 6s 390ms/step - loss: 0.6035 - accuracy: 0.7390 - val_loss: 0.4919 - val_accuracy: 0.8214\n",
      "Epoch 2/10\n",
      "8/8 [==============================] - 1s 84ms/step - loss: 0.4381 - accuracy: 0.8587 - val_loss: 0.5167 - val_accuracy: 0.8214\n",
      "Epoch 3/10\n",
      "8/8 [==============================] - 1s 83ms/step - loss: 0.4220 - accuracy: 0.8587 - val_loss: 0.4802 - val_accuracy: 0.8214\n",
      "Epoch 4/10\n",
      "8/8 [==============================] - 1s 85ms/step - loss: 0.4207 - accuracy: 0.8587 - val_loss: 0.4831 - val_accuracy: 0.8214\n",
      "Epoch 5/10\n",
      "8/8 [==============================] - 1s 85ms/step - loss: 0.4153 - accuracy: 0.8587 - val_loss: 0.4907 - val_accuracy: 0.8214\n",
      "Epoch 6/10\n",
      "8/8 [==============================] - 1s 84ms/step - loss: 0.4132 - accuracy: 0.8587 - val_loss: 0.4845 - val_accuracy: 0.8214\n",
      "Epoch 7/10\n",
      "8/8 [==============================] - 1s 82ms/step - loss: 0.4114 - accuracy: 0.8587 - val_loss: 0.4823 - val_accuracy: 0.8214\n",
      "Epoch 8/10\n",
      "8/8 [==============================] - 1s 86ms/step - loss: 0.4102 - accuracy: 0.8587 - val_loss: 0.4835 - val_accuracy: 0.8214\n",
      "Epoch 9/10\n",
      "8/8 [==============================] - 1s 90ms/step - loss: 0.4091 - accuracy: 0.8587 - val_loss: 0.4821 - val_accuracy: 0.8214\n",
      "Epoch 10/10\n",
      "8/8 [==============================] - 1s 95ms/step - loss: 0.4082 - accuracy: 0.8587 - val_loss: 0.4830 - val_accuracy: 0.8214\n"
     ]
    }
   ],
   "source": [
    "r=model.fit(data,targets,batch_size=BATCH_SIZE,epochs=EPOCHS,\n",
    "             validation_split= VALIDATION_SPLIT)"
   ]
  },
  {
   "cell_type": "code",
   "execution_count": 40,
   "id": "d87dd92e",
   "metadata": {
    "scrolled": true
   },
   "outputs": [
    {
     "data": {
      "image/png": "[encoded data removed]",
      "text/plain": [
       "<Figure size 640x480 with 1 Axes>"
      ]
     },
     "metadata": {},
     "output_type": "display_data"
    },
    {
     "data": {
      "image/png": "[encoded data removed]",
      "text/plain": [
       "<Figure size 640x480 with 1 Axes>"
      ]
     },
     "metadata": {},
     "output_type": "display_data"
    }
   ],
   "source": [
    "plt.plot(r.history['loss'],label='loss')\n",
    "plt.plot(r.history['val_loss'],label='val_loss')\n",
    "plt.legend()\n",
    "plt.show()\n",
    "\n",
    "plt.plot(r.history['accuracy'],label='acc')\n",
    "plt.plot(r.history['val_accuracy'],label='val_acc')\n",
    "plt.legend()\n",
    "plt.show()\n"
   ]
  },
  {
   "cell_type": "code",
   "execution_count": 75,
   "id": "0c4d57d8",
   "metadata": {},
   "outputs": [],
   "source": [
    "BATCH_SIZE = 16\n",
    "EPOCHS=18"
   ]
  },
  {
   "cell_type": "code",
   "execution_count": 76,
   "id": "f9d0f138",
   "metadata": {
    "scrolled": true
   },
   "outputs": [
    {
     "name": "stdout",
     "output_type": "stream",
     "text": [
      "Training model...\n",
      "Epoch 1/18\n",
      "76/76 [==============================] - 2s 21ms/step - loss: 0.4306 - accuracy: 0.1982 - val_loss: 0.4522 - val_accuracy: 0.1579\n",
      "Epoch 2/18\n",
      "76/76 [==============================] - 1s 14ms/step - loss: 0.3780 - accuracy: 0.2385 - val_loss: 0.4564 - val_accuracy: 0.0329\n",
      "Epoch 3/18\n",
      "76/76 [==============================] - 1s 12ms/step - loss: 0.3556 - accuracy: 0.2475 - val_loss: 0.4334 - val_accuracy: 0.1941\n",
      "Epoch 4/18\n",
      "76/76 [==============================] - 1s 12ms/step - loss: 0.3138 - accuracy: 0.3133 - val_loss: 0.4115 - val_accuracy: 0.1612\n",
      "Epoch 5/18\n",
      "76/76 [==============================] - 1s 15ms/step - loss: 0.2618 - accuracy: 0.4128 - val_loss: 0.4511 - val_accuracy: 0.1974\n",
      "Epoch 6/18\n",
      "76/76 [==============================] - 1s 15ms/step - loss: 0.2247 - accuracy: 0.4704 - val_loss: 0.4517 - val_accuracy: 0.1382\n",
      "Epoch 7/18\n",
      "76/76 [==============================] - 1s 12ms/step - loss: 0.2059 - accuracy: 0.4696 - val_loss: 0.5267 - val_accuracy: 0.1020\n",
      "Epoch 8/18\n",
      "76/76 [==============================] - 1s 14ms/step - loss: 0.1885 - accuracy: 0.4770 - val_loss: 0.5111 - val_accuracy: 0.1283\n",
      "Epoch 9/18\n",
      "76/76 [==============================] - 1s 15ms/step - loss: 0.1708 - accuracy: 0.4868 - val_loss: 0.5479 - val_accuracy: 0.1678\n",
      "Epoch 10/18\n",
      "76/76 [==============================] - 1s 13ms/step - loss: 0.1560 - accuracy: 0.4901 - val_loss: 0.6224 - val_accuracy: 0.1447\n",
      "Epoch 11/18\n",
      "76/76 [==============================] - 1s 15ms/step - loss: 0.1409 - accuracy: 0.5025 - val_loss: 0.6044 - val_accuracy: 0.0789\n",
      "Epoch 12/18\n",
      "76/76 [==============================] - 1s 13ms/step - loss: 0.1316 - accuracy: 0.5099 - val_loss: 0.7261 - val_accuracy: 0.1612\n",
      "Epoch 13/18\n",
      "76/76 [==============================] - 1s 14ms/step - loss: 0.1119 - accuracy: 0.5304 - val_loss: 0.7354 - val_accuracy: 0.1283\n",
      "Epoch 14/18\n",
      "76/76 [==============================] - 1s 16ms/step - loss: 0.0932 - accuracy: 0.5411 - val_loss: 0.7610 - val_accuracy: 0.1579\n",
      "Epoch 15/18\n",
      "76/76 [==============================] - 1s 15ms/step - loss: 0.0714 - accuracy: 0.5485 - val_loss: 0.8005 - val_accuracy: 0.1743\n",
      "Epoch 16/18\n",
      "76/76 [==============================] - 1s 15ms/step - loss: 0.0610 - accuracy: 0.5880 - val_loss: 0.8253 - val_accuracy: 0.2072\n",
      "Epoch 17/18\n",
      "76/76 [==============================] - 1s 15ms/step - loss: 0.0495 - accuracy: 0.5863 - val_loss: 0.9989 - val_accuracy: 0.1678\n",
      "Epoch 18/18\n",
      "76/76 [==============================] - 1s 15ms/step - loss: 0.0394 - accuracy: 0.5987 - val_loss: 0.9857 - val_accuracy: 0.1546\n"
     ]
    }
   ],
   "source": [
    "from keras.layers import Input,GlobalMaxPooling1D, Conv1D\n",
    "from keras.layers import MaxPooling1D\n",
    "from keras.models import Model\n",
    "input_ = Input(shape=(MAX_SEQUENCE_LENGTH))\n",
    "x = embedding_layer(input_)\n",
    "x = Conv1D(128,3,activation = 'relu')(x)\n",
    "x = MaxPooling1D(3)(x)\n",
    "x = Conv1D(128,3,activation = 'relu')(x)\n",
    "x = MaxPooling1D(3)(x)\n",
    "x = Conv1D(128,3,activation = 'relu')(x)\n",
    "x = GlobalMaxPooling1D()(x)\n",
    "x= Dense(128,activation='relu')(x)\n",
    "output = Dense(len(possible_labels),activation ='softmax')(x)\n",
    "model = Model(input_,output)\n",
    "model.compile(loss = 'binary_crossentropy',optimizer ='adam',\n",
    "              metrics=['accuracy'])\n",
    "print('Training model...')\n",
    "r = model.fit(data,targets,batch_size=BATCH_SIZE,epochs=EPOCHS,\n",
    "             validation_split= VALIDATION_SPLIT)"
   ]
  },
  {
   "cell_type": "code",
   "execution_count": 77,
   "id": "dee8283d",
   "metadata": {},
   "outputs": [
    {
     "data": {
      "image/png": "[encoded data removed]",
      "text/plain": [
       "<Figure size 640x480 with 1 Axes>"
      ]
     },
     "metadata": {},
     "output_type": "display_data"
    },
    {
     "data": {
      "image/png": "[encoded data removed]",
      "text/plain": [
       "<Figure size 640x480 with 1 Axes>"
      ]
     },
     "metadata": {},
     "output_type": "display_data"
    }
   ],
   "source": [
    "plt.plot(r.history['loss'],label='loss')\n",
    "plt.plot(r.history['val_loss'],label='val_loss')\n",
    "plt.legend()\n",
    "plt.show()\n",
    "\n",
    "plt.plot(r.history['accuracy'],label='acc')\n",
    "plt.plot(r.history['val_accuracy'],label='val_acc')\n",
    "plt.legend()\n",
    "plt.show()\n"
   ]
  },
  {
   "cell_type": "code",
   "execution_count": 69,
   "id": "91af1de6",
   "metadata": {},
   "outputs": [
    {
     "name": "stdout",
     "output_type": "stream",
     "text": [
      "Model: \"sequential_4\"\n",
      "_________________________________________________________________\n",
      "Layer (type)                 Output Shape              Param #   \n",
      "=================================================================\n",
      "embedding_5 (Embedding)      (None, 100, 300)          3090000   \n",
      "_________________________________________________________________\n",
      "bidirectional_2 (Bidirection (None, 100, 128)          186880    \n",
      "_________________________________________________________________\n",
      "dropout_3 (Dropout)          (None, 100, 128)          0         \n",
      "_________________________________________________________________\n",
      "bidirectional_3 (Bidirection (None, 64)                41216     \n",
      "_________________________________________________________________\n",
      "dropout_4 (Dropout)          (None, 64)                0         \n",
      "_________________________________________________________________\n",
      "dense_19 (Dense)             (None, 64)                4160      \n",
      "_________________________________________________________________\n",
      "dropout_5 (Dropout)          (None, 64)                0         \n",
      "_________________________________________________________________\n",
      "dense_20 (Dense)             (None, 1)                 65        \n",
      "_________________________________________________________________\n",
      "flatten_4 (Flatten)          (None, 1)                 0         \n",
      "=================================================================\n",
      "Total params: 3,322,321\n",
      "Trainable params: 232,321\n",
      "Non-trainable params: 3,090,000\n",
      "_________________________________________________________________\n"
     ]
    }
   ],
   "source": [
    "from tensorflow.keras.layers import Dropout\n",
    "from tensorflow.keras.optimizers import Adam\n",
    "model = Sequential()\n",
    "model.add(Embedding(num_words,\n",
    "                         EMBEDDING_DIM,\n",
    "                         weights = [embedding_matrix],\n",
    "                        input_length = MAX_SEQUENCE_LENGTH,\n",
    "                         trainable=False)) \n",
    "model.add(Bidirectional(LSTM(64, return_sequences=True, input_shape=(None, 1))))\n",
    "model.add(Dropout(0.2))\n",
    "model.add(Bidirectional(LSTM(32)))\n",
    "model.add(Dropout(0.2))\n",
    "model.add(Dense(64, activation='relu'))\n",
    "model.add(Dropout(0.1))\n",
    "model.add(Dense(1, activation='sigmoid'))\n",
    "model.add(Flatten())\n",
    "adam = Adam(learning_rate=0.01)\n",
    "model.compile(loss='binary_crossentropy',optimizer='adam', metrics=['accuracy']) \n",
    "model.summary()"
   ]
  },
  {
   "cell_type": "code",
   "execution_count": 70,
   "id": "de418478",
   "metadata": {},
   "outputs": [
    {
     "name": "stdout",
     "output_type": "stream",
     "text": [
      "Epoch 1/25\n",
      "76/76 [==============================] - 20s 86ms/step - loss: 0.4366 - accuracy: 0.8499 - val_loss: 0.4799 - val_accuracy: 0.8214\n",
      "Epoch 2/25\n",
      "76/76 [==============================] - 3s 46ms/step - loss: 0.4067 - accuracy: 0.8587 - val_loss: 0.4827 - val_accuracy: 0.8214\n",
      "Epoch 3/25\n",
      "76/76 [==============================] - 4s 46ms/step - loss: 0.4003 - accuracy: 0.8587 - val_loss: 0.4731 - val_accuracy: 0.8214\n",
      "Epoch 4/25\n",
      "76/76 [==============================] - 4s 47ms/step - loss: 0.3971 - accuracy: 0.8587 - val_loss: 0.4585 - val_accuracy: 0.8214\n",
      "Epoch 5/25\n",
      "76/76 [==============================] - 3s 46ms/step - loss: 0.3938 - accuracy: 0.8587 - val_loss: 0.4619 - val_accuracy: 0.8214\n",
      "Epoch 6/25\n",
      "76/76 [==============================] - 4s 48ms/step - loss: 0.3934 - accuracy: 0.8587 - val_loss: 0.4652 - val_accuracy: 0.8214\n",
      "Epoch 7/25\n",
      "76/76 [==============================] - 4s 47ms/step - loss: 0.3889 - accuracy: 0.8587 - val_loss: 0.4570 - val_accuracy: 0.8214\n",
      "Epoch 8/25\n",
      "76/76 [==============================] - 4s 47ms/step - loss: 0.3870 - accuracy: 0.8587 - val_loss: 0.4586 - val_accuracy: 0.8214\n",
      "Epoch 9/25\n",
      "76/76 [==============================] - 4s 47ms/step - loss: 0.3835 - accuracy: 0.8587 - val_loss: 0.4613 - val_accuracy: 0.8214\n",
      "Epoch 10/25\n",
      "76/76 [==============================] - 3s 46ms/step - loss: 0.3810 - accuracy: 0.8587 - val_loss: 0.4682 - val_accuracy: 0.8214\n",
      "Epoch 11/25\n",
      "76/76 [==============================] - 3s 46ms/step - loss: 0.3802 - accuracy: 0.8587 - val_loss: 0.4614 - val_accuracy: 0.8214\n",
      "Epoch 12/25\n",
      "76/76 [==============================] - 4s 46ms/step - loss: 0.3778 - accuracy: 0.8587 - val_loss: 0.4833 - val_accuracy: 0.8214\n",
      "Epoch 13/25\n",
      "76/76 [==============================] - 4s 49ms/step - loss: 0.3777 - accuracy: 0.8587 - val_loss: 0.4841 - val_accuracy: 0.8214\n",
      "Epoch 14/25\n",
      "76/76 [==============================] - 4s 49ms/step - loss: 0.3753 - accuracy: 0.8587 - val_loss: 0.4761 - val_accuracy: 0.8214\n",
      "Epoch 15/25\n",
      "76/76 [==============================] - 4s 47ms/step - loss: 0.3733 - accuracy: 0.8587 - val_loss: 0.4988 - val_accuracy: 0.8214\n",
      "Epoch 16/25\n",
      "76/76 [==============================] - 3s 45ms/step - loss: 0.3751 - accuracy: 0.8587 - val_loss: 0.4770 - val_accuracy: 0.8214\n",
      "Epoch 17/25\n",
      "76/76 [==============================] - 4s 47ms/step - loss: 0.3716 - accuracy: 0.8587 - val_loss: 0.4832 - val_accuracy: 0.8214\n",
      "Epoch 18/25\n",
      "76/76 [==============================] - 3s 46ms/step - loss: 0.3716 - accuracy: 0.8587 - val_loss: 0.4834 - val_accuracy: 0.8214\n",
      "Epoch 19/25\n",
      "76/76 [==============================] - 3s 45ms/step - loss: 0.3698 - accuracy: 0.8587 - val_loss: 0.4889 - val_accuracy: 0.8214\n",
      "Epoch 20/25\n",
      "76/76 [==============================] - 3s 45ms/step - loss: 0.3683 - accuracy: 0.8587 - val_loss: 0.4856 - val_accuracy: 0.8214\n",
      "Epoch 21/25\n",
      "76/76 [==============================] - 4s 47ms/step - loss: 0.3670 - accuracy: 0.8587 - val_loss: 0.5101 - val_accuracy: 0.8214\n",
      "Epoch 22/25\n",
      "76/76 [==============================] - 3s 45ms/step - loss: 0.3653 - accuracy: 0.8587 - val_loss: 0.4863 - val_accuracy: 0.8214\n",
      "Epoch 23/25\n",
      "76/76 [==============================] - 3s 45ms/step - loss: 0.3672 - accuracy: 0.8587 - val_loss: 0.5019 - val_accuracy: 0.8214\n",
      "Epoch 24/25\n",
      "76/76 [==============================] - 4s 46ms/step - loss: 0.3662 - accuracy: 0.8587 - val_loss: 0.4973 - val_accuracy: 0.8214\n",
      "Epoch 25/25\n",
      "76/76 [==============================] - 3s 46ms/step - loss: 0.3640 - accuracy: 0.8587 - val_loss: 0.4945 - val_accuracy: 0.8214\n"
     ]
    }
   ],
   "source": [
    "r = model.fit(data,targets,batch_size=BATCH_SIZE,epochs=EPOCHS,\n",
    "             validation_split= VALIDATION_SPLIT)"
   ]
  },
  {
   "cell_type": "code",
   "execution_count": 43,
   "id": "b0aff827",
   "metadata": {},
   "outputs": [
    {
     "data": {
      "image/png": "[encoded data removed]",
      "text/plain": [
       "<Figure size 640x480 with 1 Axes>"
      ]
     },
     "metadata": {},
     "output_type": "display_data"
    },
    {
     "data": {
      "image/png": "[encoded data removed]",
      "text/plain": [
       "<Figure size 640x480 with 1 Axes>"
      ]
     },
     "metadata": {},
     "output_type": "display_data"
    }
   ],
   "source": [
    "plt.plot(r.history['loss'],label='loss')\n",
    "plt.plot(r.history['val_loss'],label='val_loss')\n",
    "plt.legend()\n",
    "plt.show()\n",
    "\n",
    "plt.plot(r.history['accuracy'],label='acc')\n",
    "plt.plot(r.history['val_accuracy'],label='val_acc')\n",
    "plt.legend()\n",
    "plt.show()\n"
   ]
  }
 ],
 "metadata": {
  "kernelspec": {
   "display_name": "Python 3 (ipykernel)",
   "language": "python",
   "name": "python3"
  },
  "language_info": {
   "codemirror_mode": {
    "name": "ipython",
    "version": 3
   },
   "file_extension": ".py",
   "mimetype": "text/x-python",
   "name": "python",
   "nbconvert_exporter": "python",
   "pygments_lexer": "ipython3",
   "version": "3.7.16"
  }
 },
 "nbformat": 4,
 "nbformat_minor": 5
}
